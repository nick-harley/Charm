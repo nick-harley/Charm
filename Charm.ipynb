{
 "cells": [
  {
   "cell_type": "code",
   "execution_count": 1,
   "id": "d0c79d97",
   "metadata": {},
   "outputs": [
    {
     "name": "stderr",
     "output_type": "stream",
     "text": [
      "┌ Info: Precompiling Charm [e2273620-1c64-487a-88f9-b29e28f5a7be]\n",
      "└ @ Base loading.jl:1423\n"
     ]
    }
   ],
   "source": [
    "using Charm"
   ]
  },
  {
   "cell_type": "code",
   "execution_count": 2,
   "id": "7498ffcf",
   "metadata": {},
   "outputs": [
    {
     "data": {
      "text/plain": [
       "Charm.Midi.Pitch(1)"
      ]
     },
     "execution_count": 2,
     "metadata": {},
     "output_type": "execute_result"
    }
   ],
   "source": [
    "Charm.Midi.Pitch(1)"
   ]
  },
  {
   "cell_type": "code",
   "execution_count": null,
   "id": "d7380b4a",
   "metadata": {},
   "outputs": [],
   "source": []
  }
 ],
 "metadata": {
  "kernelspec": {
   "display_name": "Julia 1.7.3",
   "language": "julia",
   "name": "julia-1.7"
  },
  "language_info": {
   "file_extension": ".jl",
   "mimetype": "application/julia",
   "name": "julia",
   "version": "1.7.3"
  }
 },
 "nbformat": 4,
 "nbformat_minor": 5
}
