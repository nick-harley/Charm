{
 "cells": [
  {
   "cell_type": "code",
   "execution_count": 3,
   "id": "d0c79d97",
   "metadata": {},
   "outputs": [
    {
     "name": "stderr",
     "output_type": "stream",
     "text": [
      "WARNING: replacing module Charm.\n"
     ]
    },
    {
     "data": {
      "text/plain": [
       "Main.Charm"
      ]
     },
     "execution_count": 3,
     "metadata": {},
     "output_type": "execute_result"
    }
   ],
   "source": [
    "include(\"src/Charm.jl\")"
   ]
  },
  {
   "cell_type": "code",
   "execution_count": 4,
   "id": "7498ffcf",
   "metadata": {},
   "outputs": [],
   "source": [
    "using Main.Charm"
   ]
  },
  {
   "cell_type": "code",
   "execution_count": 5,
   "id": "d6c3b0a1",
   "metadata": {},
   "outputs": [
    {
     "ename": "LoadError",
     "evalue": "UndefVarError: getpitch not defined",
     "output_type": "error",
     "traceback": [
      "UndefVarError: getpitch not defined",
      "",
      "Stacktrace:",
      " [1] top-level scope",
      "   @ :0",
      " [2] eval",
      "   @ ./boot.jl:373 [inlined]",
      " [3] include_string(mapexpr::typeof(REPL.softscope), mod::Module, code::String, filename::String)",
      "   @ Base ./loading.jl:1196"
     ]
    }
   ],
   "source": [
    "getpitch"
   ]
  },
  {
   "cell_type": "code",
   "execution_count": null,
   "id": "089302ed",
   "metadata": {},
   "outputs": [],
   "source": []
  }
 ],
 "metadata": {
  "kernelspec": {
   "display_name": "Julia 1.7.3",
   "language": "julia",
   "name": "julia-1.7"
  },
  "language_info": {
   "file_extension": ".jl",
   "mimetype": "application/julia",
   "name": "julia",
   "version": "1.7.3"
  }
 },
 "nbformat": 4,
 "nbformat_minor": 5
}
